{
 "cells": [
  {
   "cell_type": "code",
   "execution_count": null,
   "id": "96a6225e",
   "metadata": {},
   "outputs": [],
   "source": [
    "import pdfplumber"
   ]
  },
  {
   "cell_type": "code",
   "execution_count": 33,
   "id": "2b70ced3",
   "metadata": {},
   "outputs": [
    {
     "name": "stderr",
     "output_type": "stream",
     "text": [
      "<>:1: SyntaxWarning: invalid escape sequence '\\A'\n",
      "<>:1: SyntaxWarning: invalid escape sequence '\\A'\n",
      "C:\\Users\\lisef\\AppData\\Local\\Temp\\ipykernel_13856\\3210422168.py:1: SyntaxWarning: invalid escape sequence '\\A'\n",
      "  myFile = 'pdfs\\ALGA.pdf'\n"
     ]
    },
    {
     "name": "stdout",
     "output_type": "stream",
     "text": [
      "['Malta', 'Napoli', 'La Spezia', 'Livorno', 'Genoa', 'Marseille', 'Alger']\n"
     ]
    }
   ],
   "source": [
    "myFile = 'pdfs\\ALGA.pdf'\n",
    "\n",
    "with pdfplumber.open(myFile) as pdf:\n",
    "    pages = pdf.pages\n",
    "    page = pages[-1]\n",
    "\n",
    "    Liste_pays = []\n",
    "\n",
    "    for char in page.extract_table()[1] :\n",
    "        if char != '' and char != 'To\\nFrom':\n",
    "            Liste_pays.append(char)\n",
    "\n",
    "    i = 1\n",
    "    while page.extract_table()[i][0] == '':\n",
    "        i += 1\n",
    "\n",
    "    n = len(page.extract_table())\n",
    "    for k in range(i, n):\n",
    "        if page.extract_table()[k][0] not in Liste_pays and page.extract_table()[k][0] != 'To\\nFrom':\n",
    "            Liste_pays.append(page.extract_table()[k][0])\n",
    "\n",
    "    print(Liste_pays)\n"
   ]
  }
 ],
 "metadata": {
  "kernelspec": {
   "display_name": "base",
   "language": "python",
   "name": "python3"
  },
  "language_info": {
   "codemirror_mode": {
    "name": "ipython",
    "version": 3
   },
   "file_extension": ".py",
   "mimetype": "text/x-python",
   "name": "python",
   "nbconvert_exporter": "python",
   "pygments_lexer": "ipython3",
   "version": "3.12.4"
  }
 },
 "nbformat": 4,
 "nbformat_minor": 5
}
